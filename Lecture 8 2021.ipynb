{
 "cells": [
  {
   "cell_type": "code",
   "execution_count": 1,
   "metadata": {
    "scrolled": true
   },
   "outputs": [
    {
     "name": "stdout",
     "output_type": "stream",
     "text": [
      "Populating the interactive namespace from numpy and matplotlib\n"
     ]
    }
   ],
   "source": [
    "%pylab inline\n"
   ]
  },
  {
   "cell_type": "code",
   "execution_count": 2,
   "metadata": {
    "scrolled": true
   },
   "outputs": [],
   "source": [
    "import scipy.stats as stats\n",
    "import numpy.random as random\n",
    "import scipy.interpolate as interpol\n",
    "import scipy.integrate as integrate"
   ]
  },
  {
   "cell_type": "markdown",
   "metadata": {},
   "source": [
    "# Test case for today: log-normal data\n",
    "\n",
    "Let's create $10^6$ values distributed as a log-normal: $x \\sim e^{N(0,1)}$"
   ]
  },
  {
   "cell_type": "code",
   "execution_count": 3,
   "metadata": {
    "scrolled": true
   },
   "outputs": [],
   "source": [
    "data=exp(random.randn(100_000))"
   ]
  },
  {
   "cell_type": "markdown",
   "metadata": {},
   "source": [
    "__In the below code box, plot a histogram of the array `data` as one figure (using `plt.figure()`) and a histogram of the log of the data as a second figure.  Use 100 bins for each plot.__"
   ]
  },
  {
   "cell_type": "code",
   "execution_count": 29,
   "metadata": {
    "scrolled": true
   },
   "outputs": [
    {
     "data": {
      "text/plain": [
       "<function matplotlib.pyplot.show(close=None, block=None)>"
      ]
     },
     "execution_count": 29,
     "metadata": {},
     "output_type": "execute_result"
    },
    {
     "data": {
      "image/png": "[encoded data removed]",
      "text/plain": [
       "<Figure size 432x288 with 1 Axes>"
      ]
     },
     "metadata": {
      "needs_background": "light"
     },
     "output_type": "display_data"
    },
    {
     "data": {
      "image/png": "[encoded data removed]",
      "text/plain": [
       "<Figure size 432x288 with 1 Axes>"
      ]
     },
     "metadata": {
      "needs_background": "light"
     },
     "output_type": "display_data"
    }
   ],
   "source": [
    "plt.figure(1)\n",
    "plt.hist(data, bins=100)\n",
    "plt.show\n",
    "plt.figure(2)\n",
    "plt.hist(log10(data), bins=100)\n",
    "plt.show"
   ]
  },
  {
   "cell_type": "markdown",
   "metadata": {},
   "source": [
    "Calculating the mean:"
   ]
  },
  {
   "cell_type": "code",
   "execution_count": 30,
   "metadata": {
    "scrolled": true
   },
   "outputs": [
    {
     "name": "stdout",
     "output_type": "stream",
     "text": [
      "1.6522210857584927\n",
      "1.6522210857584927\n"
     ]
    }
   ],
   "source": [
    "print(np.mean(data))\n",
    "print( data.mean() )"
   ]
  },
  {
   "cell_type": "markdown",
   "metadata": {},
   "source": [
    "Calculating the median:"
   ]
  },
  {
   "cell_type": "code",
   "execution_count": 31,
   "metadata": {
    "scrolled": true
   },
   "outputs": [
    {
     "name": "stdout",
     "output_type": "stream",
     "text": [
      "1.0009028853924398\n"
     ]
    }
   ],
   "source": [
    "print(np.median(data))"
   ]
  },
  {
   "cell_type": "markdown",
   "metadata": {},
   "source": [
    "Calculating the mode:"
   ]
  },
  {
   "cell_type": "code",
   "execution_count": 32,
   "metadata": {
    "scrolled": true
   },
   "outputs": [
    {
     "name": "stdout",
     "output_type": "stream",
     "text": [
      "Unrounded: ModeResult(mode=array([0.0137197]), count=array([1]))\n",
      "Rounded: ModeResult(mode=array([0.45]), count=array([709]))\n"
     ]
    }
   ],
   "source": [
    "print(f'Unrounded: {stats.mode(data)}')\n",
    "\n",
    "data_r = np.round(data,decimals=2)\n",
    "print(f'Rounded: {stats.mode(data_r)}' )"
   ]
  },
  {
   "cell_type": "code",
   "execution_count": 33,
   "metadata": {
    "scrolled": true
   },
   "outputs": [
    {
     "name": "stdout",
     "output_type": "stream",
     "text": [
      "0.45000000000000007\n"
     ]
    }
   ],
   "source": [
    "bins = np.linspace(-0.005,10.005,1002)\n",
    "counts,edges=np.histogram(data,bins=bins)\n",
    "whmax=np.argmax(counts)\n",
    "mode=(edges[whmax]+edges[whmax+1])/2\n",
    "print(mode)"
   ]
  },
  {
   "cell_type": "markdown",
   "metadata": {},
   "source": [
    "## Creating a mode function\n",
    "\n",
    "Let's define a function which can calculate the mode for any binning we might choose at the time we run it:"
   ]
  },
  {
   "cell_type": "code",
   "execution_count": 34,
   "metadata": {
    "scrolled": true
   },
   "outputs": [],
   "source": [
    "def mode2(data,**kwargs):\n",
    "# note: provide bins and (optionally) range keywords \n",
    "# as used in np.histogram to not use the\n",
    "# defaults of np.histogram (10 bins, full range)\n",
    "    counts,edges=np.histogram(data,**kwargs)\n",
    "    whmax=np.argmax(counts)\n",
    "    mode=(edges[whmax]+edges[whmax+1])/2\n",
    "    print(mode)\n",
    "    return(mode)"
   ]
  },
  {
   "cell_type": "markdown",
   "metadata": {},
   "source": [
    "__Use the `mode2` function to calculate the mode for at least 3 different binnings of the data (differing in bin sizes).__  Since we used `**kwargs` we can include the `bins=` keyword within the `mode2` function call, and it gets passed to `np.histogram`."
   ]
  },
  {
   "cell_type": "code",
   "execution_count": 38,
   "metadata": {
    "scrolled": true
   },
   "outputs": [
    {
     "name": "stdout",
     "output_type": "stream",
     "text": [
      "0.39274789367682056\n",
      "0.5822619928673209\n",
      "0.3927478936768205\n"
     ]
    },
    {
     "data": {
      "text/plain": [
       "0.3927478936768205"
      ]
     },
     "execution_count": 38,
     "metadata": {},
     "output_type": "execute_result"
    }
   ],
   "source": [
    "bins1=100\n",
    "bins2=200\n",
    "bins3=300\n",
    "\n",
    "mode2(data, bins=bins1)\n",
    "mode2(data, bins=bins2)\n",
    "mode2(data, bins=bins3)"
   ]
  },
  {
   "cell_type": "markdown",
   "metadata": {},
   "source": [
    "# Calculating measures of scale\n",
    "\n",
    "First, the standard deviation:\n"
   ]
  },
  {
   "cell_type": "code",
   "execution_count": 46,
   "metadata": {
    "scrolled": true
   },
   "outputs": [
    {
     "name": "stdout",
     "output_type": "stream",
     "text": [
      "2.157745867114065 2.1577566559243166\n",
      "0.9996520197178881 0.9996570180154739\n"
     ]
    }
   ],
   "source": [
    "print( np.std(data),np.std(data,ddof=1) )\n",
    "print( np.std(log(data)),np.std(log(data),ddof=1) )"
   ]
  },
  {
   "cell_type": "markdown",
   "metadata": {},
   "source": [
    "### Now, the mean absolute deviation.  \n",
    "\n",
    "__Discuss with your group: why do these values agree or not with the standard deviation?__\n"
   ]
  },
  {
   "cell_type": "code",
   "execution_count": 43,
   "metadata": {
    "scrolled": true
   },
   "outputs": [
    {
     "name": "stdout",
     "output_type": "stream",
     "text": [
      "Normalized Mean Absolute Deviation: 1.58673\n",
      "Normalized Mean Absolute Deviation of log(data): 0.99960\n"
     ]
    }
   ],
   "source": [
    "normmeanabsdev = np.mean(np.abs(data-data.mean()))/0.7979\n",
    "mnlog = np.mean(np.log(data) )\n",
    "normmeanabsdev_log = np.mean(np.abs( np.log(data)-mnlog) )/0.7979\n",
    "\n",
    "print(f'Normalized Mean Absolute Deviation: {normmeanabsdev:.5f}')\n",
    "print(f'Normalized Mean Absolute Deviation of log(data): {normmeanabsdev_log:.5f}')"
   ]
  },
  {
   "cell_type": "markdown",
   "metadata": {},
   "source": [
    "### Calculating the MAD:\n",
    "\n",
    "__Discuss with your group: why do these values agree or not with the standard deviation?__\n"
   ]
  },
  {
   "cell_type": "code",
   "execution_count": 44,
   "metadata": {
    "scrolled": true
   },
   "outputs": [
    {
     "name": "stdout",
     "output_type": "stream",
     "text": [
      "Normalized Median Absolute Deviation: 0.88515\n",
      "Normalized Median Absolute Deviation of log(data): 1.00017\n"
     ]
    }
   ],
   "source": [
    "meddata=np.median(data)\n",
    "normmad = np.median(np.abs(data-meddata))/0.6745\n",
    "normmad_log = np.median(abs(np.log(data)-np.log(meddata)))/0.6745\n",
    "\n",
    "\n",
    "print(f'Normalized Median Absolute Deviation: {normmad:.5f}')\n",
    "print(f'Normalized Median Absolute Deviation of log(data): {normmad_log:.5f}')"
   ]
  },
  {
   "cell_type": "markdown",
   "metadata": {},
   "source": [
    "### Calculating the IQR:\n",
    "\n",
    "__Discuss with your group: why do these values agree or not with the standard deviation?__"
   ]
  },
  {
   "cell_type": "code",
   "execution_count": 45,
   "metadata": {
    "scrolled": true
   },
   "outputs": [
    {
     "name": "stdout",
     "output_type": "stream",
     "text": [
      "Normalized IQR: 1.07937\n",
      "Normalized IQR of log(data): 1.00023\n"
     ]
    }
   ],
   "source": [
    "d25,d75 = np.percentile(data,[25,75])\n",
    "normiqr = (d75-d25)/1.349\n",
    "normiqr_log = (np.log(d75)-np.log(d25))/1.349\n",
    "\n",
    "\n",
    "print(f'Normalized IQR: {normiqr:.5f}')\n",
    "print(f'Normalized IQR of log(data): {normiqr_log:.5f}')"
   ]
  },
  {
   "cell_type": "markdown",
   "metadata": {},
   "source": [
    "# Results when averaging data together"
   ]
  },
  {
   "cell_type": "code",
   "execution_count": 5,
   "metadata": {
    "scrolled": true
   },
   "outputs": [
    {
     "data": {
      "text/plain": [
       "(array([1.000e+00, 0.000e+00, 1.000e+00, 2.000e+00, 0.000e+00, 1.000e+00,\n",
       "        2.000e+00, 2.000e+00, 4.000e+00, 2.000e+00, 6.000e+00, 5.000e+00,\n",
       "        8.000e+00, 1.500e+01, 1.300e+01, 1.700e+01, 3.100e+01, 3.200e+01,\n",
       "        5.500e+01, 6.600e+01, 7.800e+01, 8.700e+01, 1.350e+02, 1.440e+02,\n",
       "        1.760e+02, 2.570e+02, 2.840e+02, 3.480e+02, 4.000e+02, 4.550e+02,\n",
       "        5.800e+02, 6.520e+02, 7.610e+02, 8.730e+02, 1.031e+03, 1.198e+03,\n",
       "        1.373e+03, 1.452e+03, 1.630e+03, 1.907e+03, 2.022e+03, 2.239e+03,\n",
       "        2.344e+03, 2.512e+03, 2.683e+03, 2.910e+03, 2.992e+03, 3.191e+03,\n",
       "        3.232e+03, 3.349e+03, 3.373e+03, 3.451e+03, 3.517e+03, 3.453e+03,\n",
       "        3.423e+03, 3.410e+03, 3.373e+03, 3.102e+03, 3.034e+03, 2.881e+03,\n",
       "        2.748e+03, 2.482e+03, 2.392e+03, 2.177e+03, 1.989e+03, 1.784e+03,\n",
       "        1.592e+03, 1.479e+03, 1.313e+03, 1.171e+03, 1.022e+03, 8.570e+02,\n",
       "        7.550e+02, 6.060e+02, 5.490e+02, 4.810e+02, 3.430e+02, 3.290e+02,\n",
       "        2.860e+02, 2.360e+02, 1.740e+02, 1.220e+02, 1.260e+02, 9.200e+01,\n",
       "        7.700e+01, 5.700e+01, 5.600e+01, 2.600e+01, 3.100e+01, 1.800e+01,\n",
       "        1.400e+01, 1.000e+01, 7.000e+00, 7.000e+00, 5.000e+00, 6.000e+00,\n",
       "        1.000e+00, 2.000e+00, 0.000e+00, 3.000e+00]),\n",
       " array([-0.45449566, -0.44581894, -0.43714222, -0.4284655 , -0.41978878,\n",
       "        -0.41111206, -0.40243534, -0.39375862, -0.3850819 , -0.37640517,\n",
       "        -0.36772845, -0.35905173, -0.35037501, -0.34169829, -0.33302157,\n",
       "        -0.32434485, -0.31566813, -0.30699141, -0.29831469, -0.28963796,\n",
       "        -0.28096124, -0.27228452, -0.2636078 , -0.25493108, -0.24625436,\n",
       "        -0.23757764, -0.22890092, -0.2202242 , -0.21154747, -0.20287075,\n",
       "        -0.19419403, -0.18551731, -0.17684059, -0.16816387, -0.15948715,\n",
       "        -0.15081043, -0.14213371, -0.13345699, -0.12478026, -0.11610354,\n",
       "        -0.10742682, -0.0987501 , -0.09007338, -0.08139666, -0.07271994,\n",
       "        -0.06404322, -0.0553665 , -0.04668977, -0.03801305, -0.02933633,\n",
       "        -0.02065961, -0.01198289, -0.00330617,  0.00537055,  0.01404727,\n",
       "         0.02272399,  0.03140072,  0.04007744,  0.04875416,  0.05743088,\n",
       "         0.0661076 ,  0.07478432,  0.08346104,  0.09213776,  0.10081448,\n",
       "         0.1094912 ,  0.11816793,  0.12684465,  0.13552137,  0.14419809,\n",
       "         0.15287481,  0.16155153,  0.17022825,  0.17890497,  0.18758169,\n",
       "         0.19625842,  0.20493514,  0.21361186,  0.22228858,  0.2309653 ,\n",
       "         0.23964202,  0.24831874,  0.25699546,  0.26567218,  0.27434891,\n",
       "         0.28302563,  0.29170235,  0.30037907,  0.30905579,  0.31773251,\n",
       "         0.32640923,  0.33508595,  0.34376267,  0.35243939,  0.36111612,\n",
       "         0.36979284,  0.37846956,  0.38714628,  0.395823  ,  0.40449972,\n",
       "         0.41317644]),\n",
       " <BarContainer object of 100 artists>)"
      ]
     },
     "execution_count": 5,
     "metadata": {},
     "output_type": "execute_result"
    },
    {
     "data": {
      "image/png": "[encoded data removed]",
      "text/plain": [
       "<Figure size 432x288 with 1 Axes>"
      ]
     },
     "metadata": {
      "needs_background": "light"
     },
     "output_type": "display_data"
    }
   ],
   "source": [
    "nsims=int(1E5)\n",
    "navg=100\n",
    "data=random.randn(nsims,navg)\n",
    "\n",
    "# average each set of navg values\n",
    "means=np.mean(data,axis=1)\n",
    "\n",
    "plt.hist(means,bins = 100)"
   ]
  },
  {
   "cell_type": "markdown",
   "metadata": {},
   "source": [
    "- __Using the below code block, plot a histogram of the distribution of the means from each simulation, with binsize 0.01, over the range from -2 to +2 (what should you set the `bins` and `range` keywords to be for that?)__\n",
    "\n",
    "- __Determine the standard deviation of the array of means__"
   ]
  },
  {
   "cell_type": "code",
   "execution_count": 6,
   "metadata": {
    "scrolled": false
   },
   "outputs": [
    {
     "name": "stdout",
     "output_type": "stream",
     "text": [
      "0.0999884633443017\n"
     ]
    },
    {
     "data": {
      "image/png": "[encoded data removed]",
      "text/plain": [
       "<Figure size 432x288 with 1 Axes>"
      ]
     },
     "metadata": {
      "needs_background": "light"
     },
     "output_type": "display_data"
    }
   ],
   "source": [
    "plt.hist(means, bins = 200)\n",
    "sigma = np.std(means)\n",
    "print(sigma)"
   ]
  },
  {
   "cell_type": "markdown",
   "metadata": {},
   "source": [
    "- __Now, in the above code box, create a second set of simulations with `navg` = 9.  Plot the histogram of results from these simulations on top of the histogram for averaging 100 measurements.__\n",
    "\n",
    "__Discuss with your group: How do you explain the differences between the results (both qualitatively and quantitatively)? How does the scatter of the means scale with `navg`?__"
   ]
  },
  {
   "cell_type": "code",
   "execution_count": 7,
   "metadata": {},
   "outputs": [
    {
     "data": {
      "text/plain": [
       "(array([1.000e+00, 1.000e+00, 0.000e+00, 0.000e+00, 0.000e+00, 1.000e+00,\n",
       "        1.000e+00, 0.000e+00, 9.000e+00, 6.000e+00, 4.000e+00, 9.000e+00,\n",
       "        2.100e+01, 1.700e+01, 2.600e+01, 3.600e+01, 6.500e+01, 7.600e+01,\n",
       "        8.300e+01, 8.800e+01, 1.230e+02, 1.520e+02, 1.860e+02, 2.310e+02,\n",
       "        3.050e+02, 3.390e+02, 4.230e+02, 5.170e+02, 6.030e+02, 6.880e+02,\n",
       "        7.620e+02, 9.370e+02, 1.018e+03, 1.210e+03, 1.314e+03, 1.488e+03,\n",
       "        1.712e+03, 1.876e+03, 2.068e+03, 2.374e+03, 2.476e+03, 2.551e+03,\n",
       "        2.790e+03, 2.911e+03, 2.998e+03, 3.137e+03, 3.367e+03, 3.350e+03,\n",
       "        3.476e+03, 3.417e+03, 3.451e+03, 3.394e+03, 3.432e+03, 3.326e+03,\n",
       "        3.142e+03, 3.034e+03, 2.927e+03, 2.915e+03, 2.667e+03, 2.627e+03,\n",
       "        2.328e+03, 2.110e+03, 1.923e+03, 1.772e+03, 1.568e+03, 1.471e+03,\n",
       "        1.307e+03, 1.081e+03, 1.011e+03, 8.180e+02, 7.320e+02, 6.850e+02,\n",
       "        5.670e+02, 4.710e+02, 3.700e+02, 3.200e+02, 2.650e+02, 1.980e+02,\n",
       "        2.040e+02, 1.390e+02, 1.050e+02, 1.020e+02, 8.500e+01, 4.800e+01,\n",
       "        3.100e+01, 4.100e+01, 2.400e+01, 1.700e+01, 1.100e+01, 1.200e+01,\n",
       "        1.300e+01, 3.000e+00, 3.000e+00, 1.000e+00, 0.000e+00, 1.000e+00,\n",
       "        2.000e+00, 1.000e+00, 1.000e+00, 1.000e+00]),\n",
       " array([-1.44837655, -1.41954029, -1.39070403, -1.36186777, -1.33303151,\n",
       "        -1.30419525, -1.275359  , -1.24652274, -1.21768648, -1.18885022,\n",
       "        -1.16001396, -1.1311777 , -1.10234145, -1.07350519, -1.04466893,\n",
       "        -1.01583267, -0.98699641, -0.95816015, -0.92932389, -0.90048764,\n",
       "        -0.87165138, -0.84281512, -0.81397886, -0.7851426 , -0.75630634,\n",
       "        -0.72747008, -0.69863383, -0.66979757, -0.64096131, -0.61212505,\n",
       "        -0.58328879, -0.55445253, -0.52561628, -0.49678002, -0.46794376,\n",
       "        -0.4391075 , -0.41027124, -0.38143498, -0.35259872, -0.32376247,\n",
       "        -0.29492621, -0.26608995, -0.23725369, -0.20841743, -0.17958117,\n",
       "        -0.15074491, -0.12190866, -0.0930724 , -0.06423614, -0.03539988,\n",
       "        -0.00656362,  0.02227264,  0.05110889,  0.07994515,  0.10878141,\n",
       "         0.13761767,  0.16645393,  0.19529019,  0.22412645,  0.2529627 ,\n",
       "         0.28179896,  0.31063522,  0.33947148,  0.36830774,  0.397144  ,\n",
       "         0.42598026,  0.45481651,  0.48365277,  0.51248903,  0.54132529,\n",
       "         0.57016155,  0.59899781,  0.62783406,  0.65667032,  0.68550658,\n",
       "         0.71434284,  0.7431791 ,  0.77201536,  0.80085162,  0.82968787,\n",
       "         0.85852413,  0.88736039,  0.91619665,  0.94503291,  0.97386917,\n",
       "         1.00270543,  1.03154168,  1.06037794,  1.0892142 ,  1.11805046,\n",
       "         1.14688672,  1.17572298,  1.20455924,  1.23339549,  1.26223175,\n",
       "         1.29106801,  1.31990427,  1.34874053,  1.37757679,  1.40641304,\n",
       "         1.4352493 ]),\n",
       " <BarContainer object of 100 artists>)"
      ]
     },
     "execution_count": 7,
     "metadata": {},
     "output_type": "execute_result"
    },
    {
     "data": {
      "image/png": "[encoded data removed]",
      "text/plain": [
       "<Figure size 432x288 with 1 Axes>"
      ]
     },
     "metadata": {
      "needs_background": "light"
     },
     "output_type": "display_data"
    }
   ],
   "source": [
    "nsims=int(1E5)\n",
    "navg=9\n",
    "data=random.randn(nsims,navg)\n",
    "\n",
    "# average each set of navg values\n",
    "means=np.mean(data,axis=1)\n",
    "\n",
    "plt.hist(means,bins = 100)"
   ]
  },
  {
   "cell_type": "code",
   "execution_count": null,
   "metadata": {},
   "outputs": [],
   "source": []
  }
 ],
 "metadata": {
  "anaconda-cloud": {},
  "kernelspec": {
   "display_name": "Python 3",
   "language": "python",
   "name": "python3"
  },
  "language_info": {
   "codemirror_mode": {
    "name": "ipython",
    "version": 3
   },
   "file_extension": ".py",
   "mimetype": "text/x-python",
   "name": "python",
   "nbconvert_exporter": "python",
   "pygments_lexer": "ipython3",
   "version": "3.8.5"
  }
 },
 "nbformat": 4,
 "nbformat_minor": 1
}
