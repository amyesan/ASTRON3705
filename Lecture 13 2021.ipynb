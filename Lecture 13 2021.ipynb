{
 "cells": [
  {
   "cell_type": "code",
   "execution_count": 1,
   "metadata": {},
   "outputs": [
    {
     "name": "stdout",
     "output_type": "stream",
     "text": [
      "Populating the interactive namespace from numpy and matplotlib\n"
     ]
    }
   ],
   "source": [
    "%pylab inline\n",
    "import scipy.stats as stats\n",
    "import astropy.stats as astats\n",
    "import numpy.random as random\n"
   ]
  },
  {
   "cell_type": "markdown",
   "metadata": {},
   "source": [
    "# Exploring measurements of the Hubble parameter\n",
    "\n"
   ]
  },
  {
   "cell_type": "code",
   "execution_count": 2,
   "metadata": {},
   "outputs": [],
   "source": [
    "from astropy.table import Table\n",
    "import pandas"
   ]
  },
  {
   "cell_type": "markdown",
   "metadata": {},
   "source": [
    "# Reading in an ASCII file\n",
    "\n",
    "See https://pandas.pydata.org/pandas-docs/stable/reference/io.html for `pandas` format options (or http://docs.astropy.org/en/stable/io/unified.html#table-io for `Table.read()` format options). If you have a file that only reads in via astropy, you can convert to a `pandas` DataFrame via the `.to_pandas()` method of an astropy recarray.\n",
    "\n",
    "\n",
    "__1) using the below code box (or a text file viewer) look at the contents of the file hubble_trim.dat__"
   ]
  },
  {
   "cell_type": "code",
   "execution_count": null,
   "metadata": {},
   "outputs": [],
   "source": [
    "!more hubble_trim.dat"
   ]
  },
  {
   "cell_type": "markdown",
   "metadata": {},
   "source": [
    "Now, we read in the file into a table named `data`:"
   ]
  },
  {
   "cell_type": "code",
   "execution_count": 3,
   "metadata": {},
   "outputs": [],
   "source": [
    "# to read in with astropy.table:\n",
    "data_table=Table.read('hubble_trim.dat',format='ascii.fixed_width')\n",
    "\n",
    "# to read in with pandas:\n",
    "data=pandas.read_fwf('hubble_trim.dat',widths=[4,5,5,9,3,80],comment='#',\n",
    "                     names=['h0','ep','em','date','method','source'],skiprows=1)"
   ]
  },
  {
   "cell_type": "markdown",
   "metadata": {},
   "source": [
    "Using the below code box, check what's in each version of the table:\n",
    "\n",
    "__1) print out the list of column names:__ This is an attribute of the `data` object: i.e., `data.columns`, not `data.columns()`).  For an astropy `Table` or `recarray` this is `data_table.colnames`\n",
    "\n",
    "__2) print out the first record in the table:__ In `pandas` this is `data.iloc[0,:]`; for an astropy `Table` or `recarray` it is `data_table[0]` .  `.iloc` indicates integer-based location specification -- the first coordinate slices on rows, the second slices on columns (e.g. the h0 value is column 0).  \n",
    "\n",
    "__3) print data itself: both `pandas` and the astropy `Table` class provide 'pretty' print output.__\n",
    "\n",
    "__4) Check out the attributes and methods associated with `data` and `data_table`: e.g., type `data.` and hit the Tab key to see a list.__"
   ]
  },
  {
   "cell_type": "code",
   "execution_count": 4,
   "metadata": {},
   "outputs": [
    {
     "data": {
      "text/html": [
       "<i>Row index=0</i>\n",
       "<table id=\"table140253505600240\">\n",
       "<thead><tr><th>h0</th><th>ep</th><th>em</th><th>date</th><th>me</th><th>source</th></tr></thead>\n",
       "<thead><tr><th>float64</th><th>float64</th><th>float64</th><th>float64</th><th>str2</th><th>str63</th></tr></thead>\n",
       "<tr><td>50.0</td><td>2.0</td><td>-2.0</td><td>1996.0</td><td>AS</td><td>Tammann, G. \\&amp; Sandage, A. 1996in IAU Symp 168, {\\it Examining</td></tr>\n",
       "</table>"
      ],
      "text/plain": [
       "<Row index=0>\n",
       "   h0      ep      em     date   me                              source                            \n",
       "float64 float64 float64 float64 str2                             str63                             \n",
       "------- ------- ------- ------- ---- --------------------------------------------------------------\n",
       "   50.0     2.0    -2.0  1996.0   AS Tammann, G. \\& Sandage, A. 1996in IAU Symp 168, {\\it Examining"
      ]
     },
     "execution_count": 4,
     "metadata": {},
     "output_type": "execute_result"
    }
   ],
   "source": [
    "data_table.colnames\n",
    "data_table[0]"
   ]
  },
  {
   "cell_type": "code",
   "execution_count": 5,
   "metadata": {},
   "outputs": [
    {
     "data": {
      "text/plain": [
       "h0                                                       50\n",
       "ep                                                        2\n",
       "em                                                       -2\n",
       "date                                                   1996\n",
       "method                                                   AS\n",
       "source    Tammann, G. \\& Sandage, A. 1996in IAU Symp 168...\n",
       "Name: 0, dtype: object"
      ]
     },
     "execution_count": 5,
     "metadata": {},
     "output_type": "execute_result"
    }
   ],
   "source": [
    "data.iloc[0,:]"
   ]
  },
  {
   "cell_type": "markdown",
   "metadata": {},
   "source": [
    "Let's store the columns as separate arrays for convenience:"
   ]
  },
  {
   "cell_type": "code",
   "execution_count": 6,
   "metadata": {},
   "outputs": [],
   "source": [
    "# the following method works in both pandas and astropy\n",
    "#h0 = data['h0']\n",
    "h0t = data_table['h0']\n",
    "#errplus = data['ep']\n",
    "#errminus=-data['em']\n",
    "#date=data['date']\n",
    "\n",
    "# this method works in pandas only\n",
    "h0 = data.h0\n",
    "errplus = data.ep\n",
    "errminus=-data.em\n",
    "date=data.date"
   ]
  },
  {
   "cell_type": "markdown",
   "metadata": {},
   "source": [
    "## Making plots with error bars\n",
    "\n",
    "__Bring up the documentation on `plt.errorbar` in the below code box.__"
   ]
  },
  {
   "cell_type": "code",
   "execution_count": 7,
   "metadata": {},
   "outputs": [],
   "source": [
    "plt.errorbar?"
   ]
  },
  {
   "cell_type": "markdown",
   "metadata": {},
   "source": [
    "__In the below box, make a plot of H0 vs. year with error-bars given by either `errplus` or `errminus`.  Use the `fmt=` keyword to draw the points as blue circles (the same format coding as `plt.plot` is used here).  You will want to use the `yerr=` keyword.__"
   ]
  },
  {
   "cell_type": "code",
   "execution_count": 8,
   "metadata": {},
   "outputs": [
    {
     "data": {
      "text/plain": [
       "<ErrorbarContainer object of 3 artists>"
      ]
     },
     "execution_count": 8,
     "metadata": {},
     "output_type": "execute_result"
    },
    {
     "data": {
      "image/png": "[encoded data removed]",
      "text/plain": [
       "<Figure size 432x288 with 1 Axes>"
      ]
     },
     "metadata": {
      "needs_background": "light"
     },
     "output_type": "display_data"
    }
   ],
   "source": [
    "plt.errorbar(date,h0,yerr=errminus, fmt='bo')"
   ]
  },
  {
   "cell_type": "markdown",
   "metadata": {},
   "source": [
    "__Now, we want to modify the plot in the above code box to use asymmetric error bars.__  To do that, you provide a Python `list` of two arrays containg one error for each measurement; i.e., generically, `yerr = [minus_error,plus_error]` where `minus_error` is the length of the lower error bar and `plus_error` is the length of the upper.\n",
    "\n",
    "__Also, limit the plot range to only show results from 2000 - 2010.__"
   ]
  },
  {
   "cell_type": "code",
   "execution_count": 9,
   "metadata": {},
   "outputs": [
    {
     "data": {
      "text/plain": [
       "(0.0, 150.0)"
      ]
     },
     "execution_count": 9,
     "metadata": {},
     "output_type": "execute_result"
    },
    {
     "data": {
      "image/png": "[encoded data removed]",
      "text/plain": [
       "<Figure size 432x288 with 1 Axes>"
      ]
     },
     "metadata": {
      "needs_background": "light"
     },
     "output_type": "display_data"
    }
   ],
   "source": [
    "plt.errorbar(date,h0,yerr = [errminus,errplus], fmt='bo')\n",
    "plt.xlim([2000,2010])\n",
    "plt.ylim([0,150])"
   ]
  },
  {
   "cell_type": "markdown",
   "metadata": {},
   "source": [
    "## Plotting histograms of $H_0$ values\n",
    "\n",
    "We want to compare the distributions of $H_0$ values from 1999-2001 (pre-Key Project release), 2001-2003 (pre-WMAP), and 2003-2008.  \n",
    "\n",
    "__In the below code box, select measurements from each era and overplot histograms using different colors for each.  Use the `bins=` and/or `range=` keywords to ensure that the same binning is used for each sample, and that your binning is fine enough to be able to see the shape of the histogram (the default of 10 bins is rarely appropriate). Be sure to include a legend!__\n",
    "\n",
    "If you read things in with pandas, you can use `np.where()` to get the indices in each array for a given date range, and then plot the corresponding values by slicing h0.iloc with those indices; e.g.:\n",
    "\n",
    "    wh90s = np.where( np.logical_and(date > 1990, date < 2000) )\n",
    "    plt.hist(h0.iloc[wh90s])\n",
    "    \n",
    "Alternatively, you can use a boolean array to select the rows you want:\n",
    "\n",
    "    is90s = np.logical_and(date > 1990, date < 2000) \n",
    "    plt.hist(h0[is90s])\n",
    "\n",
    "If you read things in as an astropy `Table` or `recarray`, you can use `np.where()` to get the indices, and then plot the corresponding values by slicing the h0 values with those indices; e.g.:\n",
    "\n",
    "    wh90s = np.where( np.logical_and(date > 1990, date < 2000) )\n",
    "    plt.hist(h0t[wh90s])\n",
    "    \n",
    "    "
   ]
  },
  {
   "cell_type": "code",
   "execution_count": 10,
   "metadata": {},
   "outputs": [
    {
     "data": {
      "text/plain": [
       "(array([ 1.,  1.,  6.,  7., 24., 31., 61., 24.,  3.,  2.]),\n",
       " array([31. , 37.1, 43.2, 49.3, 55.4, 61.5, 67.6, 73.7, 79.8, 85.9, 92. ]),\n",
       " <BarContainer object of 10 artists>)"
      ]
     },
     "execution_count": 10,
     "metadata": {},
     "output_type": "execute_result"
    },
    {
     "data": {
      "image/png": "[encoded data removed]",
      "text/plain": [
       "<Figure size 432x288 with 1 Axes>"
      ]
     },
     "metadata": {
      "needs_background": "light"
     },
     "output_type": "display_data"
    }
   ],
   "source": [
    "wh80s = np.where( np.logical_and(date > 1980, date < 1990) )\n",
    "wh90s = np.where( np.logical_and(date > 1990, date < 2000) )\n",
    "wh00s = np.where( np.logical_and(date > 2000, date < 2010) )\n",
    "plt.hist(h0.iloc[wh80s])\n",
    "plt.hist(h0.iloc[wh90s])\n",
    "plt.hist(h0.iloc[wh00s])"
   ]
  },
  {
   "cell_type": "markdown",
   "metadata": {},
   "source": [
    "# If you're waiting for other groups...\n",
    "\n",
    "- Try exploring the recarray version of the data (`data_table`) and applying its methods.\n",
    "\n",
    "- Matplotlib offers many customization options.  Check out http://matplotlib.org/users/customizing.html#dynamic-rc-settings for discussion of how to change the settings temporarily for a program (using `mpl.rc()`).  The example matplotlibrc file at the end of that page lists all the possible things to change; e.g. to change the linewidth (lines.linewidth in the matplotlibrc file) you would do \n",
    "\n",
    "    mpl.rc('lines',linewidth=2.0)\n",
    "    \n",
    "Try changing various line/font/etc. settings for your plots above.\n",
    "\n",
    "A good way to help make your plots prettier is to look at example code for the plots in the matplotlib gallery, https://matplotlib.org/stable/gallery/index.html .    "
   ]
  },
  {
   "cell_type": "markdown",
   "metadata": {},
   "source": [
    "# Bootstrap resampling\n",
    "\n",
    "In Python, one way to generate bootstraps, which works with numpy arrays but __not__ pandas series, is generating an array of random index numbers (i.e., sets of indices within the orignal array), and then addressing the original array we want to make bootstraps from with the array of index numbers.  Their shapes need not match.\n",
    "\n",
    "The easy way, though, is to use `numpy.random.choice()`.  __Check the documentation on this routine in the code box below.__\n",
    "\n",
    "If we want a one-dimensional array of samples, the `.sample()` method of a dataframe (or series) works. However, we want 2D, as we will create a set of `nbootstraps` new samples each of length `ndata`, so we couldn't use `Dataframe.sample()` without having to loop over the number of bootstrap samples.  \n",
    "\n",
    "Note that in general the default value of `replace=True` is what you want for bootstraps."
   ]
  },
  {
   "cell_type": "code",
   "execution_count": null,
   "metadata": {},
   "outputs": [],
   "source": []
  },
  {
   "cell_type": "code",
   "execution_count": 11,
   "metadata": {},
   "outputs": [],
   "source": [
    "hdata=h0[date > 2001]\n",
    "ndata=len(hdata)\n",
    "nbootstraps=int(1E4)\n",
    "\n",
    "# The below code would work if we used astropy, but not pandas.  \n",
    "#bootidx=np.floor((random.rand(nbootstraps,ndata)*ndata))\n",
    "#bootidx=bootidx.astype(int)\n",
    "#hboot=hdata[bootidx]\n",
    "\n",
    "# this works in pandas:\n",
    "hboot=np.random.choice(hdata,(nbootstraps,ndata))\n"
   ]
  },
  {
   "cell_type": "markdown",
   "metadata": {},
   "source": [
    "In the code box below, \n",
    "\n",
    "__1) determine the minimum and maximum values in hdata and in hboot__\n",
    "\n",
    "__2) Plot a histogram of the values in `np.ravel(hboot)`__\n",
    "\n",
    "__3) Determine the dimensions of hboot using `np.shape()`__"
   ]
  },
  {
   "cell_type": "code",
   "execution_count": 12,
   "metadata": {},
   "outputs": [
    {
     "name": "stdout",
     "output_type": "stream",
     "text": [
      "(10000, 134)\n"
     ]
    },
    {
     "data": {
      "image/png": "[encoded data removed]",
      "text/plain": [
       "<Figure size 432x288 with 1 Axes>"
      ]
     },
     "metadata": {
      "needs_background": "light"
     },
     "output_type": "display_data"
    }
   ],
   "source": [
    "ravel = np.ravel(hboot)\n",
    "plt.hist(ravel)\n",
    "\n",
    "shape = np.shape(hboot)\n",
    "print(shape)"
   ]
  },
  {
   "cell_type": "markdown",
   "metadata": {},
   "source": [
    "### Using the bootstrap simulations\n",
    "\n",
    "We can, for instance, compute the standard deviation of the mean for `hdata` by determining the standard deviation of the mean values from each bootstrap realization; but we could do this for any other statistic, too.  __Compare the standard deviation of the mean & of the median to what you'd expect for the standard error, using the code box below.__"
   ]
  },
  {
   "cell_type": "code",
   "execution_count": 13,
   "metadata": {},
   "outputs": [],
   "source": [
    "err_predicted=np.std(hdata)/np.sqrt(ndata)\n",
    "\n",
    "# compare to the standard deviation amongst the means, or amongst the medians, of each bootstrap sample:\n",
    "means=np.zeros(nbootstraps)\n",
    "\n",
    "# the slow way\n",
    "for i in np.arange(nbootstraps):\n",
    "    means[i]=np.mean(hboot[i,:])\n",
    "    \n",
    "# the fast way    \n",
    "medians = np.median(hboot,axis=1)    \n",
    "    \n",
    "#print ??? # write code to print the mean and median of the means\n",
    "#print ??? # write code to print the mean and median of hdata\n",
    "#print ???  # write code to print the std. dev. of the means and of the medians, \n",
    "# and compare to the predicted error\n"
   ]
  },
  {
   "cell_type": "markdown",
   "metadata": {},
   "source": [
    "__What do the distributions look like?  Plot the histograms of both means and medians and compare (use a bin size of 0.1).  Discuss with your group: why do these look different from each other?__\n"
   ]
  },
  {
   "cell_type": "code",
   "execution_count": 14,
   "metadata": {},
   "outputs": [
    {
     "data": {
      "text/plain": [
       "(array([  34.,  195.,  752., 1965., 2923., 2550., 1216.,  318.,   44.,\n",
       "           3.]),\n",
       " array([64.04104478, 64.62910448, 65.21716418, 65.80522388, 66.39328358,\n",
       "        66.98134328, 67.56940299, 68.15746269, 68.74552239, 69.33358209,\n",
       "        69.92164179]),\n",
       " <BarContainer object of 10 artists>)"
      ]
     },
     "execution_count": 14,
     "metadata": {},
     "output_type": "execute_result"
    },
    {
     "data": {
      "image/png": "[encoded data removed]",
      "text/plain": [
       "<Figure size 432x288 with 1 Axes>"
      ]
     },
     "metadata": {
      "needs_background": "light"
     },
     "output_type": "display_data"
    }
   ],
   "source": [
    "plt.hist(means)"
   ]
  },
  {
   "cell_type": "code",
   "execution_count": null,
   "metadata": {},
   "outputs": [],
   "source": []
  },
  {
   "cell_type": "markdown",
   "metadata": {},
   "source": [
    "# Percentiles and Sorting\n",
    "\n",
    "3 examples of ways to get a 95% range for the median:"
   ]
  },
  {
   "cell_type": "code",
   "execution_count": 15,
   "metadata": {},
   "outputs": [
    {
     "name": "stdout",
     "output_type": "stream",
     "text": [
      "[67. 71.]\n",
      "67.0 71.0\n",
      "67.0 71.0\n"
     ]
    }
   ],
   "source": [
    "# use np.percentile\n",
    "print( np.percentile(medians, [2.5, 97.5]) )\n",
    "\n",
    "# use np.sort to create a sorted array\n",
    "sortmedians = np.sort(medians)\n",
    "print( sortmedians[int(0.025*nbootstraps)],sortmedians[int(0.975*nbootstraps)] )\n",
    "\n",
    "#use np.argsort to get an array of indices that sort the medians array\n",
    "sortidx=np.argsort(medians)\n",
    "print( medians[sortidx[int(0.025*nbootstraps)]], medians[sortidx[int(0.975*nbootstraps)]] )\n"
   ]
  },
  {
   "cell_type": "markdown",
   "metadata": {},
   "source": [
    "__Now, using one of these methods, determine a 95% confidence interval for H0 from the means of each bootstrap sample.__"
   ]
  },
  {
   "cell_type": "code",
   "execution_count": null,
   "metadata": {},
   "outputs": [],
   "source": []
  },
  {
   "cell_type": "markdown",
   "metadata": {},
   "source": [
    "# Smoothed bootstraps\n",
    "\n",
    "We can get nicer-looking distributions of bootstrap results by adding a modest amount of noise to the data generated from bootstrapping.  Example: add N(0,1) noise to our H0 bootstraps:"
   ]
  },
  {
   "cell_type": "code",
   "execution_count": 16,
   "metadata": {},
   "outputs": [],
   "source": [
    "sboot=hboot+random.randn(nbootstraps,ndata)\n",
    "smeans = np.mean(sboot,axis=1) \n",
    "smedians=np.median(sboot,axis=1) "
   ]
  },
  {
   "cell_type": "markdown",
   "metadata": {},
   "source": [
    "__Overplot histograms of the `medians` and `smedians` arrays using the same binning for each.  Then, determine 95% confidence regions for the smoothed mean and smoothed median, and compare to your values from above.__"
   ]
  },
  {
   "cell_type": "code",
   "execution_count": null,
   "metadata": {},
   "outputs": [],
   "source": []
  },
  {
   "cell_type": "code",
   "execution_count": null,
   "metadata": {},
   "outputs": [],
   "source": []
  }
 ],
 "metadata": {
  "anaconda-cloud": {},
  "kernelspec": {
   "display_name": "Python 3",
   "language": "python",
   "name": "python3"
  },
  "language_info": {
   "codemirror_mode": {
    "name": "ipython",
    "version": 3
   },
   "file_extension": ".py",
   "mimetype": "text/x-python",
   "name": "python",
   "nbconvert_exporter": "python",
   "pygments_lexer": "ipython3",
   "version": "3.8.5"
  }
 },
 "nbformat": 4,
 "nbformat_minor": 1
}
